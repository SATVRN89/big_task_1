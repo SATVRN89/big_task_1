{
 "cells": [
  {
   "metadata": {},
   "cell_type": "markdown",
   "source": [
    "# Big task 1\n",
    "\n",
    "The files are Excel files taken from open sources and processed from PDFs using OCR. The recognition quality is slightly above average; in some places, the recognition is incorrect, or extraneous characters are included, etc.\n",
    "\n",
    "The tasks here are:\n",
    "\n",
    "- Familiarize yourself with the structure of these files. Each file contains several sheets, etc.\n",
    "- Extract all tables and combine them into one.\n",
    "- Retain only two columns: the address and the cadastral number.\n",
    "- Additionally, there’s an extra challenge. Analyze which russian letters are being replaced by which english ones and think about how we can improve the recognition quality.\n"
   ],
   "id": "8a77807f92f26ee"
  },
  {
   "metadata": {
    "ExecuteTime": {
     "end_time": "2024-12-12T16:22:14.811662Z",
     "start_time": "2024-12-12T16:22:12.937363Z"
    }
   },
   "cell_type": "code",
   "source": "import pandas as pd",
   "id": "fbc121e30a2defb3",
   "outputs": [],
   "execution_count": 1
  },
  {
   "metadata": {
    "ExecuteTime": {
     "end_time": "2024-12-12T16:22:14.825494Z",
     "start_time": "2024-12-12T16:22:14.820463Z"
    }
   },
   "cell_type": "code",
   "source": [
    "# Path to the uploaded file\n",
    "file_path = 'C:/Users/ii/Desktop/SATVRN/study/Andrei/bt1/Postanovlenie_ot_13_06_2024_1067_p_s_prilozh.xlsx'\n",
    "file_path_2 = 'C:/Users/ii/Desktop/SATVRN/study/Andrei/bt1/Postanovlenie_ot_13_06_2024_1068_p_s_prilozh.xlsx'\n",
    "file_path_3 = 'C:/Users/ii/Desktop/SATVRN/study/Andrei/bt1/Postanovlenie_ot_13_06_2024_1069_p_s_prilozh.xlsx'"
   ],
   "id": "4d3d2e2283637fa3",
   "outputs": [],
   "execution_count": 2
  },
  {
   "metadata": {},
   "cell_type": "markdown",
   "source": "## Function",
   "id": "a12377741cf2fb74"
  },
  {
   "metadata": {
    "ExecuteTime": {
     "end_time": "2024-12-12T16:22:14.971457Z",
     "start_time": "2024-12-12T16:22:14.961221Z"
    }
   },
   "cell_type": "code",
   "source": [
    "# Write a function to upload all the sheets from the file\n",
    "def table_upload(file_path, df_sheet_name):\n",
    "    df = pd.read_excel(file_path, sheet_name=[df_sheet_name], usecols=[1, 2], skiprows=range(0, 2))\n",
    "    # Rename the columns\n",
    "    df_1 = df[df_sheet_name]\n",
    "    df_1 = df_1.rename(columns={df_1.columns[0]: 'Адрес поврежденного жилого помещения',\n",
    "                                df_1.columns[1]: 'Кадастровый номер жилого помещения'})\n",
    "    \n",
    "    # Read all sheet names from the Excel file\n",
    "    sheet_names = pd.ExcelFile(file_path).sheet_names\n",
    "\n",
    "    # Initialize an empty list to hold the dataframes\n",
    "    dataframes = []\n",
    "    \n",
    "    # Loop through the sheets, excluding \"Table 1\"\n",
    "    for sheet in sheet_names:\n",
    "        if sheet != \"Table 1\" and sheet != \"Table 2\":\n",
    "            # Read the first three columns of the current sheet\n",
    "            df_2 = pd.read_excel(file_path, sheet_name=sheet, usecols=[1, 2], skiprows=0)\n",
    "            dataframes.append(df_2)\n",
    "    \n",
    "    # Concatenate all the dataframes into one\n",
    "    combined_table = pd.concat(dataframes, ignore_index=True)\n",
    "    # Rename the columns\n",
    "    combined_table = combined_table.rename(columns={combined_table.columns[0]: 'Адрес поврежденного жилого помещения',\n",
    "                                                    combined_table.columns[1]: 'Кадастровый номер жилого помещения'})\n",
    "    # Concatenate all the sheets into one\n",
    "    final_table = pd.concat([df_1, combined_table], ignore_index=True, axis=0)\n",
    "    \n",
    "    return final_table\n"
   ],
   "id": "624bad95f1fcd844",
   "outputs": [],
   "execution_count": 3
  },
  {
   "metadata": {
    "ExecuteTime": {
     "end_time": "2024-12-12T16:22:16.020227Z",
     "start_time": "2024-12-12T16:22:14.985101Z"
    }
   },
   "cell_type": "code",
   "source": "table_1 = table_upload('C:/Users/ii/Desktop/SATVRN/study/Andrei/bt1/Postanovlenie_ot_13_06_2024_1067_p_s_prilozh.xlsx', 'Table 2')",
   "id": "cd035411f89d0f67",
   "outputs": [],
   "execution_count": 4
  },
  {
   "metadata": {
    "ExecuteTime": {
     "end_time": "2024-12-12T16:22:16.146567Z",
     "start_time": "2024-12-12T16:22:16.037744Z"
    }
   },
   "cell_type": "code",
   "source": "table_2 = table_upload('C:/Users/ii/Desktop/SATVRN/study/Andrei/bt1/Postanovlenie_ot_13_06_2024_1068_p_s_prilozh.xlsx', 'Table 2')",
   "id": "2b19552282b60b81",
   "outputs": [],
   "execution_count": 5
  },
  {
   "metadata": {
    "ExecuteTime": {
     "end_time": "2024-12-12T16:22:16.272329Z",
     "start_time": "2024-12-12T16:22:16.163408Z"
    }
   },
   "cell_type": "code",
   "source": "table_3 = table_upload('C:/Users/ii/Desktop/SATVRN/study/Andrei/bt1/Postanovlenie_ot_13_06_2024_1069_p_s_prilozh.xlsx', 'Table 2')",
   "id": "ee6be995e0e1b89f",
   "outputs": [],
   "execution_count": 6
  },
  {
   "metadata": {
    "ExecuteTime": {
     "end_time": "2024-12-12T16:22:16.311375Z",
     "start_time": "2024-12-12T16:22:16.290653Z"
    }
   },
   "cell_type": "code",
   "source": [
    "# Concatenate all the tables into one\n",
    "united_table = pd.concat([table_1, table_2, table_3], ignore_index=True, axis=0)\n",
    "united_table.head(15)"
   ],
   "id": "26cacb4f589abbc7",
   "outputs": [
    {
     "data": {
      "text/plain": [
       "                 Адрес поврежденного жилого помещения  \\\n",
       "0   г. Оренбург, CHT «Дубовый плес\\n1», проезд 9-й...   \n",
       "1   г. Оренбург, CHT «Дубовый плёс»\\nпроезд 5-й Ду...   \n",
       "2   г. Оренбург, CHT «Дубовый плёс»\\nпроезд 5-й Ду...   \n",
       "3   г. Оренбург, CHT «Дубовый\\nплёс», проезд 5-й Д...   \n",
       "4   г. Оренбург, CHT «Дубовый\\nплёс», проезд 5-й Д...   \n",
       "5               Адрес поврежденного  жилого помещения   \n",
       "6   г. Оренбург, CHT «Дубовый\\nплес», проезд 2-й Д...   \n",
       "7   г. Оренбург, CHT «Дубовый\\nплес», проезд 2-й Д...   \n",
       "8   г. Оренбург, CHT «Дубовый\\nплес», проезд 2-й Д...   \n",
       "9   г. Оренбург, CHT «Дубовый плёс»\\nпроезд 5-й Ду...   \n",
       "10  г. Оренбург, CHT «Дубовый плёс»\\nпроезд 5-й Ду...   \n",
       "11  г. Оренбург, CHT «Дубовый\\nплёс», проезд 5-й Д...   \n",
       "12  г. Оренбург, CHT «Дубовый\\nплёс», проезд 5-й Д...   \n",
       "13             Адрес поврежденного  жилого помегденяя   \n",
       "14  г. Оренбург,  CHT «Дубовый\\nплёс», проезд 5-й ...   \n",
       "\n",
       "      Кадастровый номер жилого помещения  \n",
       "0                    56:44:0239001:22105  \n",
       "1                    56:44:0239001:21336  \n",
       "2                    56:44:0239001:22284  \n",
       "3                    56:44:0239001:21692  \n",
       "4                    56:44:0239001:20944  \n",
       "5     Кадастровый номер жилого помещения  \n",
       "6                    56:44:0239001:21068  \n",
       "7                    56:44:0239001:21387  \n",
       "8                    56:44:0239001:21066  \n",
       "9                    56:44:0239001:21091  \n",
       "10                   56:44:0239001:21266  \n",
       "11                   56:44:0239001:21365  \n",
       "12                   56:44:0239001:21271  \n",
       "13  Кадастровый номер жилого помеіденття  \n",
       "14                  56:44:023900 1:21389  "
      ],
      "text/html": [
       "<div>\n",
       "<style scoped>\n",
       "    .dataframe tbody tr th:only-of-type {\n",
       "        vertical-align: middle;\n",
       "    }\n",
       "\n",
       "    .dataframe tbody tr th {\n",
       "        vertical-align: top;\n",
       "    }\n",
       "\n",
       "    .dataframe thead th {\n",
       "        text-align: right;\n",
       "    }\n",
       "</style>\n",
       "<table border=\"1\" class=\"dataframe\">\n",
       "  <thead>\n",
       "    <tr style=\"text-align: right;\">\n",
       "      <th></th>\n",
       "      <th>Адрес поврежденного жилого помещения</th>\n",
       "      <th>Кадастровый номер жилого помещения</th>\n",
       "    </tr>\n",
       "  </thead>\n",
       "  <tbody>\n",
       "    <tr>\n",
       "      <th>0</th>\n",
       "      <td>г. Оренбург, CHT «Дубовый плес\\n1», проезд 9-й...</td>\n",
       "      <td>56:44:0239001:22105</td>\n",
       "    </tr>\n",
       "    <tr>\n",
       "      <th>1</th>\n",
       "      <td>г. Оренбург, CHT «Дубовый плёс»\\nпроезд 5-й Ду...</td>\n",
       "      <td>56:44:0239001:21336</td>\n",
       "    </tr>\n",
       "    <tr>\n",
       "      <th>2</th>\n",
       "      <td>г. Оренбург, CHT «Дубовый плёс»\\nпроезд 5-й Ду...</td>\n",
       "      <td>56:44:0239001:22284</td>\n",
       "    </tr>\n",
       "    <tr>\n",
       "      <th>3</th>\n",
       "      <td>г. Оренбург, CHT «Дубовый\\nплёс», проезд 5-й Д...</td>\n",
       "      <td>56:44:0239001:21692</td>\n",
       "    </tr>\n",
       "    <tr>\n",
       "      <th>4</th>\n",
       "      <td>г. Оренбург, CHT «Дубовый\\nплёс», проезд 5-й Д...</td>\n",
       "      <td>56:44:0239001:20944</td>\n",
       "    </tr>\n",
       "    <tr>\n",
       "      <th>5</th>\n",
       "      <td>Адрес поврежденного  жилого помещения</td>\n",
       "      <td>Кадастровый номер жилого помещения</td>\n",
       "    </tr>\n",
       "    <tr>\n",
       "      <th>6</th>\n",
       "      <td>г. Оренбург, CHT «Дубовый\\nплес», проезд 2-й Д...</td>\n",
       "      <td>56:44:0239001:21068</td>\n",
       "    </tr>\n",
       "    <tr>\n",
       "      <th>7</th>\n",
       "      <td>г. Оренбург, CHT «Дубовый\\nплес», проезд 2-й Д...</td>\n",
       "      <td>56:44:0239001:21387</td>\n",
       "    </tr>\n",
       "    <tr>\n",
       "      <th>8</th>\n",
       "      <td>г. Оренбург, CHT «Дубовый\\nплес», проезд 2-й Д...</td>\n",
       "      <td>56:44:0239001:21066</td>\n",
       "    </tr>\n",
       "    <tr>\n",
       "      <th>9</th>\n",
       "      <td>г. Оренбург, CHT «Дубовый плёс»\\nпроезд 5-й Ду...</td>\n",
       "      <td>56:44:0239001:21091</td>\n",
       "    </tr>\n",
       "    <tr>\n",
       "      <th>10</th>\n",
       "      <td>г. Оренбург, CHT «Дубовый плёс»\\nпроезд 5-й Ду...</td>\n",
       "      <td>56:44:0239001:21266</td>\n",
       "    </tr>\n",
       "    <tr>\n",
       "      <th>11</th>\n",
       "      <td>г. Оренбург, CHT «Дубовый\\nплёс», проезд 5-й Д...</td>\n",
       "      <td>56:44:0239001:21365</td>\n",
       "    </tr>\n",
       "    <tr>\n",
       "      <th>12</th>\n",
       "      <td>г. Оренбург, CHT «Дубовый\\nплёс», проезд 5-й Д...</td>\n",
       "      <td>56:44:0239001:21271</td>\n",
       "    </tr>\n",
       "    <tr>\n",
       "      <th>13</th>\n",
       "      <td>Адрес поврежденного  жилого помегденяя</td>\n",
       "      <td>Кадастровый номер жилого помеіденття</td>\n",
       "    </tr>\n",
       "    <tr>\n",
       "      <th>14</th>\n",
       "      <td>г. Оренбург,  CHT «Дубовый\\nплёс», проезд 5-й ...</td>\n",
       "      <td>56:44:023900 1:21389</td>\n",
       "    </tr>\n",
       "  </tbody>\n",
       "</table>\n",
       "</div>"
      ]
     },
     "execution_count": 7,
     "metadata": {},
     "output_type": "execute_result"
    }
   ],
   "execution_count": 7
  },
  {
   "metadata": {
    "ExecuteTime": {
     "end_time": "2024-12-12T16:22:16.374870Z",
     "start_time": "2024-12-12T16:22:16.367873Z"
    }
   },
   "cell_type": "code",
   "source": [
    "# Filter all the strings which need to be dropped\n",
    "to_drop = united_table[united_table['Адрес поврежденного жилого помещения'].str.contains('поврежд')].index\n",
    "to_drop"
   ],
   "id": "731c0eb003ebe787",
   "outputs": [
    {
     "data": {
      "text/plain": [
       "Int64Index([5, 13, 22, 34, 52, 55, 67, 107, 117, 132, 147], dtype='int64')"
      ]
     },
     "execution_count": 8,
     "metadata": {},
     "output_type": "execute_result"
    }
   ],
   "execution_count": 8
  },
  {
   "metadata": {
    "ExecuteTime": {
     "end_time": "2024-12-12T16:22:16.444747Z",
     "start_time": "2024-12-12T16:22:16.430447Z"
    }
   },
   "cell_type": "code",
   "source": [
    "# Drop the filtered strings\n",
    "filtered_table = united_table.drop(to_drop).reset_index(drop=True)\n",
    "filtered_table.tail(15)"
   ],
   "id": "ecfff96b450084aa",
   "outputs": [
    {
     "data": {
      "text/plain": [
       "                  Адрес поврежденного жилого помещения  \\\n",
       "135  г. Оренбург, CHTCH\\n«Энергетик», уж. 7 Линия, ...   \n",
       "136  г. Оренбург, CHT «Дружба- Заречное»,  ул. Друж...   \n",
       "137  г. Оренбург, CHT «Дружба-\\nЗаречное», ул. Друж...   \n",
       "138  г. Оренбург, CHT «Дружба-\\nЗаречное»,  ул. Дру...   \n",
       "139  г. Оренбург, CHT «Банковец»,\\nул. Банковская, ...   \n",
       "140  г. Оренбург, снт «Банковец»,\\nул. 5 проезд, на...   \n",
       "141  г. Оренбург, мкр. пос. им.\\nКуйбышева,  ул. Се...   \n",
       "142  г. Оренбург, мкр. поселок им\\nКуйбышева, yn. С...   \n",
       "143  г. Оренбург, с. Краснохолм,\\nул. Краснознаменн...   \n",
       "144            г. Оренбург, ул. 1-я Семафорная,\\nд. 12   \n",
       "145  г. Оренбург, село Краснохолм,\\nул. Краснознаме...   \n",
       "146  г. Оренбург, с. Краснохолм,\\nул. Краснознаменн...   \n",
       "147  г. Оренбург, с. Краснохолм,\\nул. Краснознаменн...   \n",
       "148  г. Оренбург, село Краснохолм,\\nул. Краснознаме...   \n",
       "149  г. Оренбург, с. Краснохолм,\\nул. Краснознаменн...   \n",
       "\n",
       "    Кадастровый номер жилого помещения  \n",
       "135                 56:44:0116001:2646  \n",
       "136                 56:44:0244005:6227  \n",
       "137                 56:44:0244005:6720  \n",
       "138                56:44 30239001:9594  \n",
       "139                 56:44:0244005:6963  \n",
       "140                 56:44:0244005:6561  \n",
       "141                  56:44:0240011:218  \n",
       "142                  56:44:0240012:373  \n",
       "143                 56:44:1001001:2353  \n",
       "144                   56:44:0439006:72  \n",
       "145                56:44: 1001002:1064  \n",
       "146                 56:44:1001001:4169  \n",
       "147                 56:44:1001001:2542  \n",
       "148                 56:44:1001002:1034  \n",
       "149                56:44:100100 1:2423  "
      ],
      "text/html": [
       "<div>\n",
       "<style scoped>\n",
       "    .dataframe tbody tr th:only-of-type {\n",
       "        vertical-align: middle;\n",
       "    }\n",
       "\n",
       "    .dataframe tbody tr th {\n",
       "        vertical-align: top;\n",
       "    }\n",
       "\n",
       "    .dataframe thead th {\n",
       "        text-align: right;\n",
       "    }\n",
       "</style>\n",
       "<table border=\"1\" class=\"dataframe\">\n",
       "  <thead>\n",
       "    <tr style=\"text-align: right;\">\n",
       "      <th></th>\n",
       "      <th>Адрес поврежденного жилого помещения</th>\n",
       "      <th>Кадастровый номер жилого помещения</th>\n",
       "    </tr>\n",
       "  </thead>\n",
       "  <tbody>\n",
       "    <tr>\n",
       "      <th>135</th>\n",
       "      <td>г. Оренбург, CHTCH\\n«Энергетик», уж. 7 Линия, ...</td>\n",
       "      <td>56:44:0116001:2646</td>\n",
       "    </tr>\n",
       "    <tr>\n",
       "      <th>136</th>\n",
       "      <td>г. Оренбург, CHT «Дружба- Заречное»,  ул. Друж...</td>\n",
       "      <td>56:44:0244005:6227</td>\n",
       "    </tr>\n",
       "    <tr>\n",
       "      <th>137</th>\n",
       "      <td>г. Оренбург, CHT «Дружба-\\nЗаречное», ул. Друж...</td>\n",
       "      <td>56:44:0244005:6720</td>\n",
       "    </tr>\n",
       "    <tr>\n",
       "      <th>138</th>\n",
       "      <td>г. Оренбург, CHT «Дружба-\\nЗаречное»,  ул. Дру...</td>\n",
       "      <td>56:44 30239001:9594</td>\n",
       "    </tr>\n",
       "    <tr>\n",
       "      <th>139</th>\n",
       "      <td>г. Оренбург, CHT «Банковец»,\\nул. Банковская, ...</td>\n",
       "      <td>56:44:0244005:6963</td>\n",
       "    </tr>\n",
       "    <tr>\n",
       "      <th>140</th>\n",
       "      <td>г. Оренбург, снт «Банковец»,\\nул. 5 проезд, на...</td>\n",
       "      <td>56:44:0244005:6561</td>\n",
       "    </tr>\n",
       "    <tr>\n",
       "      <th>141</th>\n",
       "      <td>г. Оренбург, мкр. пос. им.\\nКуйбышева,  ул. Се...</td>\n",
       "      <td>56:44:0240011:218</td>\n",
       "    </tr>\n",
       "    <tr>\n",
       "      <th>142</th>\n",
       "      <td>г. Оренбург, мкр. поселок им\\nКуйбышева, yn. С...</td>\n",
       "      <td>56:44:0240012:373</td>\n",
       "    </tr>\n",
       "    <tr>\n",
       "      <th>143</th>\n",
       "      <td>г. Оренбург, с. Краснохолм,\\nул. Краснознаменн...</td>\n",
       "      <td>56:44:1001001:2353</td>\n",
       "    </tr>\n",
       "    <tr>\n",
       "      <th>144</th>\n",
       "      <td>г. Оренбург, ул. 1-я Семафорная,\\nд. 12</td>\n",
       "      <td>56:44:0439006:72</td>\n",
       "    </tr>\n",
       "    <tr>\n",
       "      <th>145</th>\n",
       "      <td>г. Оренбург, село Краснохолм,\\nул. Краснознаме...</td>\n",
       "      <td>56:44: 1001002:1064</td>\n",
       "    </tr>\n",
       "    <tr>\n",
       "      <th>146</th>\n",
       "      <td>г. Оренбург, с. Краснохолм,\\nул. Краснознаменн...</td>\n",
       "      <td>56:44:1001001:4169</td>\n",
       "    </tr>\n",
       "    <tr>\n",
       "      <th>147</th>\n",
       "      <td>г. Оренбург, с. Краснохолм,\\nул. Краснознаменн...</td>\n",
       "      <td>56:44:1001001:2542</td>\n",
       "    </tr>\n",
       "    <tr>\n",
       "      <th>148</th>\n",
       "      <td>г. Оренбург, село Краснохолм,\\nул. Краснознаме...</td>\n",
       "      <td>56:44:1001002:1034</td>\n",
       "    </tr>\n",
       "    <tr>\n",
       "      <th>149</th>\n",
       "      <td>г. Оренбург, с. Краснохолм,\\nул. Краснознаменн...</td>\n",
       "      <td>56:44:100100 1:2423</td>\n",
       "    </tr>\n",
       "  </tbody>\n",
       "</table>\n",
       "</div>"
      ]
     },
     "execution_count": 9,
     "metadata": {},
     "output_type": "execute_result"
    }
   ],
   "execution_count": 9
  },
  {
   "metadata": {
    "ExecuteTime": {
     "end_time": "2024-12-12T16:22:16.528162Z",
     "start_time": "2024-12-12T16:22:16.506023Z"
    }
   },
   "cell_type": "code",
   "source": [
    "# Clean dataframe from unnecessary characters\n",
    "filtered_table['Адрес поврежденного жилого помещения'] = (\n",
    "               filtered_table['Адрес поврежденного жилого помещения']\n",
    "               .str.replace('\\n', ' ')\n",
    "               .str.replace('  ', ' ')\n",
    "               )"
   ],
   "id": "5baa64e2fcc6eee3",
   "outputs": [],
   "execution_count": 10
  },
  {
   "metadata": {
    "ExecuteTime": {
     "end_time": "2024-12-12T16:22:16.578123Z",
     "start_time": "2024-12-12T16:22:16.564146Z"
    }
   },
   "cell_type": "code",
   "source": [
    "# Check the english letters \n",
    "len(filtered_table[filtered_table['Адрес поврежденного жилого помещения'].str.contains('[a-z]', regex=True, case=False)])"
   ],
   "id": "a6a2a541171d434f",
   "outputs": [
    {
     "data": {
      "text/plain": [
       "86"
      ]
     },
     "execution_count": 11,
     "metadata": {},
     "output_type": "execute_result"
    }
   ],
   "execution_count": 11
  },
  {
   "metadata": {
    "ExecuteTime": {
     "end_time": "2024-12-12T16:22:16.624228Z",
     "start_time": "2024-12-12T16:22:16.604469Z"
    }
   },
   "cell_type": "code",
   "source": "len(filtered_table[filtered_table['Адрес поврежденного жилого помещения'].str.contains('[efglerako]', regex=True, case=False)])",
   "id": "51108fb6f8ae8b50",
   "outputs": [
    {
     "data": {
      "text/plain": [
       "13"
      ]
     },
     "execution_count": 12,
     "metadata": {},
     "output_type": "execute_result"
    }
   ],
   "execution_count": 12
  },
  {
   "metadata": {
    "ExecuteTime": {
     "end_time": "2024-12-12T16:22:16.669597Z",
     "start_time": "2024-12-12T16:22:16.648006Z"
    }
   },
   "cell_type": "code",
   "source": "len(filtered_table[filtered_table['Адрес поврежденного жилого помещения'].str.contains('[ch]', regex=True, case=False)])",
   "id": "3c40205c1644f702",
   "outputs": [
    {
     "data": {
      "text/plain": [
       "77"
      ]
     },
     "execution_count": 13,
     "metadata": {},
     "output_type": "execute_result"
    }
   ],
   "execution_count": 13
  },
  {
   "metadata": {
    "ExecuteTime": {
     "end_time": "2024-12-12T16:22:16.701394Z",
     "start_time": "2024-12-12T16:22:16.688395Z"
    }
   },
   "cell_type": "code",
   "source": [
    "# Replace the english letters with the russian ones to improve recognition quality of OCR \n",
    "filtered_table['Адрес поврежденного жилого помещения'] = (\n",
    "               filtered_table['Адрес поврежденного жилого помещения']\n",
    "               .str.replace('C', 'С')\n",
    "               .str.replace('H', 'Н')\n",
    "               )\n",
    "len(filtered_table[filtered_table['Адрес поврежденного жилого помещения'].str.contains('[ch]', regex=True, case=False)])"
   ],
   "id": "39c4f555fe4eca4b",
   "outputs": [
    {
     "data": {
      "text/plain": [
       "0"
      ]
     },
     "execution_count": 14,
     "metadata": {},
     "output_type": "execute_result"
    }
   ],
   "execution_count": 14
  }
 ],
 "metadata": {
  "kernelspec": {
   "display_name": "Python 3",
   "language": "python",
   "name": "python3"
  },
  "language_info": {
   "codemirror_mode": {
    "name": "ipython",
    "version": 2
   },
   "file_extension": ".py",
   "mimetype": "text/x-python",
   "name": "python",
   "nbconvert_exporter": "python",
   "pygments_lexer": "ipython2",
   "version": "2.7.6"
  }
 },
 "nbformat": 4,
 "nbformat_minor": 5
}
